{
 "cells": [
  {
   "cell_type": "code",
   "execution_count": 1,
   "id": "327c337b",
   "metadata": {},
   "outputs": [],
   "source": [
    "# Suppress warnings\n",
    "import warnings\n",
    "warnings.filterwarnings('ignore')\n",
    "from random import randint\n",
    "from sklearn.utils import shuffle\n",
    "from sklearn.preprocessing import MinMaxScaler\n",
    "import tensorflow as tf\n",
    "from tensorflow import keras\n",
    "from tensorflow.keras.models import Sequential\n",
    "from tensorflow.keras.layers import Activation, Dense\n",
    "from tensorflow.keras.optimizers import Adam\n",
    "from tensorflow.keras.metrics import categorical_crossentropy\n",
    "import pandas as pd\n",
    "import numpy as np"
   ]
  },
  {
   "cell_type": "markdown",
   "id": "cd2fc47a",
   "metadata": {},
   "source": [
    "We'll start out with a very simple classification task using a simple numerical data set,For this simple task, we'll be creating our own example data set."
   ]
  },
  {
   "cell_type": "code",
   "execution_count": null,
   "id": "53c551c4",
   "metadata": {},
   "outputs": [],
   "source": [
    "train_labels = []\n",
    "train_samples = []\n",
    "\n",
    "for i in range(50):\n",
    "    random_younger = randint(13,64)\n",
    "    train_samples.append(random_younger)\n",
    "    train_labels.append(1)\n",
    "\n",
    "    random_older = randint(65,100)\n",
    "    train_samples.append(random_older)\n",
    "    train_labels.append(0)\n",
    "\n",
    "for i in range(1000):\n",
    "    random_younger = randint(13,64)\n",
    "    train_samples.append(random_younger)\n",
    "    train_labels.append(0)\n",
    "\n",
    "    random_older = randint(65,100)\n",
    "    train_samples.append(random_older)\n",
    "    train_labels.append(1)\n",
    "\n",
    "train_labels = np.array(train_labels)\n",
    "train_samples = np.array(train_samples)\n",
    "train_labels, train_samples = shuffle(train_labels, train_samples)\n",
    "scaler = MinMaxScaler(feature_range=(0,1))\n",
    "scaled_train_samples = scaler.fit_transform(train_samples.reshape(-1,1))"
   ]
  },
  {
   "cell_type": "code",
   "execution_count": 3,
   "id": "2682b1a8",
   "metadata": {},
   "outputs": [],
   "source": [
    "# we can think of the way we specify the input_shape here as acting as an implicit input layer, because we don't specify the input layer but rather the input data itself is the input layer \n",
    "model = Sequential([\n",
    "    Dense(units=16, input_shape=(1,), activation='relu'), # this is the first hidden layer and by specifing the input shape, we are telling the model that it will receive 1 dimensional data.\n",
    "    Dense(units=32, activation='relu'),\n",
    "    Dense(units=2, activation='softmax')\n",
    "])"
   ]
  },
  {
   "cell_type": "code",
   "execution_count": 4,
   "id": "fcf0d79a",
   "metadata": {},
   "outputs": [
    {
     "data": {
      "text/html": [
       "<pre style=\"white-space:pre;overflow-x:auto;line-height:normal;font-family:Menlo,'DejaVu Sans Mono',consolas,'Courier New',monospace\"><span style=\"font-weight: bold\">Model: \"sequential\"</span>\n",
       "</pre>\n"
      ],
      "text/plain": [
       "\u001b[1mModel: \"sequential\"\u001b[0m\n"
      ]
     },
     "metadata": {},
     "output_type": "display_data"
    },
    {
     "data": {
      "text/html": [
       "<pre style=\"white-space:pre;overflow-x:auto;line-height:normal;font-family:Menlo,'DejaVu Sans Mono',consolas,'Courier New',monospace\">┏━━━━━━━━━━━━━━━━━━━━━━━━━━━━━━━━━┳━━━━━━━━━━━━━━━━━━━━━━━━┳━━━━━━━━━━━━━━━┓\n",
       "┃<span style=\"font-weight: bold\"> Layer (type)                    </span>┃<span style=\"font-weight: bold\"> Output Shape           </span>┃<span style=\"font-weight: bold\">       Param # </span>┃\n",
       "┡━━━━━━━━━━━━━━━━━━━━━━━━━━━━━━━━━╇━━━━━━━━━━━━━━━━━━━━━━━━╇━━━━━━━━━━━━━━━┩\n",
       "│ dense (<span style=\"color: #0087ff; text-decoration-color: #0087ff\">Dense</span>)                   │ (<span style=\"color: #00d7ff; text-decoration-color: #00d7ff\">None</span>, <span style=\"color: #00af00; text-decoration-color: #00af00\">16</span>)             │            <span style=\"color: #00af00; text-decoration-color: #00af00\">32</span> │\n",
       "├─────────────────────────────────┼────────────────────────┼───────────────┤\n",
       "│ dense_1 (<span style=\"color: #0087ff; text-decoration-color: #0087ff\">Dense</span>)                 │ (<span style=\"color: #00d7ff; text-decoration-color: #00d7ff\">None</span>, <span style=\"color: #00af00; text-decoration-color: #00af00\">32</span>)             │           <span style=\"color: #00af00; text-decoration-color: #00af00\">544</span> │\n",
       "├─────────────────────────────────┼────────────────────────┼───────────────┤\n",
       "│ dense_2 (<span style=\"color: #0087ff; text-decoration-color: #0087ff\">Dense</span>)                 │ (<span style=\"color: #00d7ff; text-decoration-color: #00d7ff\">None</span>, <span style=\"color: #00af00; text-decoration-color: #00af00\">2</span>)              │            <span style=\"color: #00af00; text-decoration-color: #00af00\">66</span> │\n",
       "└─────────────────────────────────┴────────────────────────┴───────────────┘\n",
       "</pre>\n"
      ],
      "text/plain": [
       "┏━━━━━━━━━━━━━━━━━━━━━━━━━━━━━━━━━┳━━━━━━━━━━━━━━━━━━━━━━━━┳━━━━━━━━━━━━━━━┓\n",
       "┃\u001b[1m \u001b[0m\u001b[1mLayer (type)                   \u001b[0m\u001b[1m \u001b[0m┃\u001b[1m \u001b[0m\u001b[1mOutput Shape          \u001b[0m\u001b[1m \u001b[0m┃\u001b[1m \u001b[0m\u001b[1m      Param #\u001b[0m\u001b[1m \u001b[0m┃\n",
       "┡━━━━━━━━━━━━━━━━━━━━━━━━━━━━━━━━━╇━━━━━━━━━━━━━━━━━━━━━━━━╇━━━━━━━━━━━━━━━┩\n",
       "│ dense (\u001b[38;5;33mDense\u001b[0m)                   │ (\u001b[38;5;45mNone\u001b[0m, \u001b[38;5;34m16\u001b[0m)             │            \u001b[38;5;34m32\u001b[0m │\n",
       "├─────────────────────────────────┼────────────────────────┼───────────────┤\n",
       "│ dense_1 (\u001b[38;5;33mDense\u001b[0m)                 │ (\u001b[38;5;45mNone\u001b[0m, \u001b[38;5;34m32\u001b[0m)             │           \u001b[38;5;34m544\u001b[0m │\n",
       "├─────────────────────────────────┼────────────────────────┼───────────────┤\n",
       "│ dense_2 (\u001b[38;5;33mDense\u001b[0m)                 │ (\u001b[38;5;45mNone\u001b[0m, \u001b[38;5;34m2\u001b[0m)              │            \u001b[38;5;34m66\u001b[0m │\n",
       "└─────────────────────────────────┴────────────────────────┴───────────────┘\n"
      ]
     },
     "metadata": {},
     "output_type": "display_data"
    },
    {
     "data": {
      "text/html": [
       "<pre style=\"white-space:pre;overflow-x:auto;line-height:normal;font-family:Menlo,'DejaVu Sans Mono',consolas,'Courier New',monospace\"><span style=\"font-weight: bold\"> Total params: </span><span style=\"color: #00af00; text-decoration-color: #00af00\">642</span> (2.51 KB)\n",
       "</pre>\n"
      ],
      "text/plain": [
       "\u001b[1m Total params: \u001b[0m\u001b[38;5;34m642\u001b[0m (2.51 KB)\n"
      ]
     },
     "metadata": {},
     "output_type": "display_data"
    },
    {
     "data": {
      "text/html": [
       "<pre style=\"white-space:pre;overflow-x:auto;line-height:normal;font-family:Menlo,'DejaVu Sans Mono',consolas,'Courier New',monospace\"><span style=\"font-weight: bold\"> Trainable params: </span><span style=\"color: #00af00; text-decoration-color: #00af00\">642</span> (2.51 KB)\n",
       "</pre>\n"
      ],
      "text/plain": [
       "\u001b[1m Trainable params: \u001b[0m\u001b[38;5;34m642\u001b[0m (2.51 KB)\n"
      ]
     },
     "metadata": {},
     "output_type": "display_data"
    },
    {
     "data": {
      "text/html": [
       "<pre style=\"white-space:pre;overflow-x:auto;line-height:normal;font-family:Menlo,'DejaVu Sans Mono',consolas,'Courier New',monospace\"><span style=\"font-weight: bold\"> Non-trainable params: </span><span style=\"color: #00af00; text-decoration-color: #00af00\">0</span> (0.00 B)\n",
       "</pre>\n"
      ],
      "text/plain": [
       "\u001b[1m Non-trainable params: \u001b[0m\u001b[38;5;34m0\u001b[0m (0.00 B)\n"
      ]
     },
     "metadata": {},
     "output_type": "display_data"
    }
   ],
   "source": [
    "model.summary()"
   ]
  },
  {
   "cell_type": "markdown",
   "id": "b8576f2c",
   "metadata": {},
   "source": [
    "### Compiling the model\n",
    "The first thing we need to do to get the model ready for training is call the compile() function on it."
   ]
  },
  {
   "cell_type": "code",
   "execution_count": 5,
   "id": "9fab056f",
   "metadata": {},
   "outputs": [],
   "source": [
    "\n",
    "model.compile(optimizer=Adam(learning_rate=0.0001), loss='sparse_categorical_crossentropy', metrics=['accuracy'])\n"
   ]
  },
  {
   "cell_type": "markdown",
   "id": "6fff621e",
   "metadata": {},
   "source": [
    "### Training the model\n",
    "\n",
    "Now that the model is compiled, we can train it using the fit() function.\n",
    "\n"
   ]
  },
  {
   "cell_type": "code",
   "execution_count": null,
   "id": "5764287d",
   "metadata": {},
   "outputs": [
    {
     "name": "stdout",
     "output_type": "stream",
     "text": [
      "Epoch 1/30\n",
      "189/189 - 2s - 8ms/step - accuracy: 0.4598 - loss: 0.7537 - val_accuracy: 0.4667 - val_loss: 0.7317\n",
      "Epoch 2/30\n",
      "189/189 - 0s - 2ms/step - accuracy: 0.4884 - loss: 0.7194 - val_accuracy: 0.5286 - val_loss: 0.6975\n",
      "Epoch 3/30\n",
      "189/189 - 1s - 3ms/step - accuracy: 0.7005 - loss: 0.6835 - val_accuracy: 0.8429 - val_loss: 0.6691\n",
      "Epoch 4/30\n",
      "189/189 - 0s - 3ms/step - accuracy: 0.7989 - loss: 0.6543 - val_accuracy: 0.7762 - val_loss: 0.6415\n",
      "Epoch 5/30\n",
      "189/189 - 0s - 2ms/step - accuracy: 0.7952 - loss: 0.6250 - val_accuracy: 0.8333 - val_loss: 0.6134\n",
      "Epoch 6/30\n",
      "189/189 - 0s - 2ms/step - accuracy: 0.8185 - loss: 0.5977 - val_accuracy: 0.8429 - val_loss: 0.5880\n",
      "Epoch 7/30\n",
      "189/189 - 0s - 2ms/step - accuracy: 0.8222 - loss: 0.5719 - val_accuracy: 0.8381 - val_loss: 0.5623\n",
      "Epoch 8/30\n",
      "189/189 - 0s - 2ms/step - accuracy: 0.8376 - loss: 0.5469 - val_accuracy: 0.8476 - val_loss: 0.5368\n",
      "Epoch 9/30\n",
      "189/189 - 0s - 2ms/step - accuracy: 0.8429 - loss: 0.5218 - val_accuracy: 0.8476 - val_loss: 0.5115\n",
      "Epoch 10/30\n",
      "189/189 - 0s - 3ms/step - accuracy: 0.8566 - loss: 0.4964 - val_accuracy: 0.8571 - val_loss: 0.4847\n",
      "Epoch 11/30\n",
      "189/189 - 0s - 2ms/step - accuracy: 0.8857 - loss: 0.4708 - val_accuracy: 0.8571 - val_loss: 0.4590\n",
      "Epoch 12/30\n",
      "189/189 - 0s - 2ms/step - accuracy: 0.8841 - loss: 0.4462 - val_accuracy: 0.8810 - val_loss: 0.4340\n",
      "Epoch 13/30\n",
      "189/189 - 0s - 2ms/step - accuracy: 0.8931 - loss: 0.4233 - val_accuracy: 0.8810 - val_loss: 0.4108\n",
      "Epoch 14/30\n",
      "189/189 - 0s - 2ms/step - accuracy: 0.9042 - loss: 0.4024 - val_accuracy: 0.8952 - val_loss: 0.3893\n",
      "Epoch 15/30\n",
      "189/189 - 0s - 2ms/step - accuracy: 0.9074 - loss: 0.3834 - val_accuracy: 0.8952 - val_loss: 0.3699\n",
      "Epoch 16/30\n",
      "189/189 - 0s - 2ms/step - accuracy: 0.9101 - loss: 0.3664 - val_accuracy: 0.9048 - val_loss: 0.3527\n",
      "Epoch 17/30\n",
      "189/189 - 0s - 2ms/step - accuracy: 0.9148 - loss: 0.3516 - val_accuracy: 0.9048 - val_loss: 0.3376\n",
      "Epoch 18/30\n",
      "189/189 - 0s - 2ms/step - accuracy: 0.9175 - loss: 0.3387 - val_accuracy: 0.9143 - val_loss: 0.3239\n",
      "Epoch 19/30\n",
      "189/189 - 0s - 2ms/step - accuracy: 0.9175 - loss: 0.3274 - val_accuracy: 0.9143 - val_loss: 0.3125\n",
      "Epoch 20/30\n",
      "189/189 - 0s - 2ms/step - accuracy: 0.9201 - loss: 0.3176 - val_accuracy: 0.9143 - val_loss: 0.3021\n",
      "Epoch 21/30\n",
      "189/189 - 0s - 2ms/step - accuracy: 0.9254 - loss: 0.3090 - val_accuracy: 0.9190 - val_loss: 0.2933\n",
      "Epoch 22/30\n",
      "189/189 - 0s - 2ms/step - accuracy: 0.9265 - loss: 0.3017 - val_accuracy: 0.9143 - val_loss: 0.2862\n",
      "Epoch 23/30\n",
      "189/189 - 0s - 2ms/step - accuracy: 0.9243 - loss: 0.2954 - val_accuracy: 0.9190 - val_loss: 0.2788\n",
      "Epoch 24/30\n",
      "189/189 - 0s - 3ms/step - accuracy: 0.9302 - loss: 0.2900 - val_accuracy: 0.9190 - val_loss: 0.2731\n",
      "Epoch 25/30\n",
      "189/189 - 0s - 2ms/step - accuracy: 0.9296 - loss: 0.2851 - val_accuracy: 0.9190 - val_loss: 0.2681\n",
      "Epoch 26/30\n",
      "189/189 - 0s - 2ms/step - accuracy: 0.9307 - loss: 0.2811 - val_accuracy: 0.9190 - val_loss: 0.2638\n",
      "Epoch 27/30\n",
      "189/189 - 0s - 2ms/step - accuracy: 0.9323 - loss: 0.2775 - val_accuracy: 0.9190 - val_loss: 0.2595\n",
      "Epoch 28/30\n",
      "189/189 - 0s - 2ms/step - accuracy: 0.9323 - loss: 0.2744 - val_accuracy: 0.9286 - val_loss: 0.2561\n",
      "Epoch 29/30\n",
      "189/189 - 0s - 2ms/step - accuracy: 0.9349 - loss: 0.2715 - val_accuracy: 0.9286 - val_loss: 0.2529\n",
      "Epoch 30/30\n",
      "189/189 - 0s - 2ms/step - accuracy: 0.9370 - loss: 0.2691 - val_accuracy: 0.9286 - val_loss: 0.2503\n"
     ]
    },
    {
     "data": {
      "text/plain": [
       "<keras.src.callbacks.history.History at 0x1c548b59160>"
      ]
     },
     "execution_count": 6,
     "metadata": {},
     "output_type": "execute_result"
    }
   ],
   "source": [
    "model.fit(x=scaled_train_samples, y=train_labels, validation_split=0.1, batch_size=10, epochs=30,shuffle=True, verbose=2) \n",
    "# validation_split is for held out validation set is created before the shuffle so here we are taking the last 10% of the training set as validation set\n",
    "# so i general we wanna make sure that our dataset shuffled before any split so that the model does not learn any patterns about the order\n",
    "# verbose = 1 gives us a progress bar \n",
    "# verbose = 0 gives us no progress bar \n",
    "# verbose = 2 gives us progress bar \n",
    "# shuffle True is by default True "
   ]
  },
  {
   "cell_type": "code",
   "execution_count": 7,
   "id": "c67401bf",
   "metadata": {},
   "outputs": [],
   "source": [
    "test_labels =  []\n",
    "test_samples = []\n",
    "\n",
    "for i in range(10):\n",
    "    random_younger = randint(13,64)\n",
    "    test_samples.append(random_younger)\n",
    "    test_labels.append(1)\n",
    "\n",
    "    random_older = randint(65,100)\n",
    "    test_samples.append(random_older)\n",
    "    test_labels.append(0)\n",
    "\n",
    "for i in range(200):\n",
    "    random_younger = randint(13,64)\n",
    "    test_samples.append(random_younger)\n",
    "    test_labels.append(0)\n",
    "\n",
    "    random_older = randint(65,100)\n",
    "    test_samples.append(random_older)\n",
    "    test_labels.append(1)\n",
    "\n",
    "test_labels = np.array(test_labels)\n",
    "test_samples = np.array(test_samples)\n",
    "test_labels, test_samples = shuffle(test_labels, test_samples)\n",
    "\n",
    "scaled_test_samples = scaler.fit_transform(test_samples.reshape(-1,1))"
   ]
  },
  {
   "cell_type": "code",
   "execution_count": 8,
   "id": "ea425b0d",
   "metadata": {},
   "outputs": [],
   "source": [
    "predictions = model.predict(\n",
    "      x=scaled_test_samples\n",
    "    , batch_size=10\n",
    "    , verbose=0\n",
    ") "
   ]
  },
  {
   "cell_type": "code",
   "execution_count": null,
   "id": "4ba50449",
   "metadata": {},
   "outputs": [],
   "source": [
    "rounded_predictions = np.argmax(predictions, axis=-1)\n",
    "\n",
    "for i in rounded_predictions:\n",
    "    print(i)"
   ]
  }
 ],
 "metadata": {
  "kernelspec": {
   "display_name": "Python 3",
   "language": "python",
   "name": "python3"
  },
  "language_info": {
   "codemirror_mode": {
    "name": "ipython",
    "version": 3
   },
   "file_extension": ".py",
   "mimetype": "text/x-python",
   "name": "python",
   "nbconvert_exporter": "python",
   "pygments_lexer": "ipython3",
   "version": "3.13.5"
  }
 },
 "nbformat": 4,
 "nbformat_minor": 5
}
