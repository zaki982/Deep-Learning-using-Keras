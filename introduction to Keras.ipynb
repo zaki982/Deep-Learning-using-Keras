{
 "cells": [
  {
   "cell_type": "code",
   "execution_count": 3,
   "id": "327c337b",
   "metadata": {},
   "outputs": [],
   "source": [
    "# Suppress warnings\n",
    "import warnings\n",
    "warnings.filterwarnings('ignore')\n",
    "\n",
    "import tensorflow as tf\n",
    "from tensorflow import keras\n",
    "from tensorflow.keras.models import Sequential\n",
    "from tensorflow.keras.layers import Activation, Dense\n",
    "from tensorflow.keras.optimizers import Adam\n",
    "from tensorflow.keras.metrics import categorical_crossentropy\n",
    "import pandas as pd\n",
    "import numpy as np"
   ]
  },
  {
   "cell_type": "code",
   "execution_count": null,
   "id": "2682b1a8",
   "metadata": {},
   "outputs": [],
   "source": [
    "# we can think of the way we specify the input_shape here as acting as an implicit input layer, because we don't specify the input layer but rather the input data itself is the input layer \n",
    "model = Sequential([\n",
    "    Dense(units=16, input_shape=(1,), activation='relu'), # this is the first hidden layer and by specifing the input shape, we are telling the model that it will receive 1 dimensional data.\n",
    "    Dense(units=32, activation='relu'),\n",
    "    Dense(units=2, activation='softmax')\n",
    "])"
   ]
  }
 ],
 "metadata": {
  "kernelspec": {
   "display_name": "Python 3",
   "language": "python",
   "name": "python3"
  },
  "language_info": {
   "codemirror_mode": {
    "name": "ipython",
    "version": 3
   },
   "file_extension": ".py",
   "mimetype": "text/x-python",
   "name": "python",
   "nbconvert_exporter": "python",
   "pygments_lexer": "ipython3",
   "version": "3.13.5"
  }
 },
 "nbformat": 4,
 "nbformat_minor": 5
}
