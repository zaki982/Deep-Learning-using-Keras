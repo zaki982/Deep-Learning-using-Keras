{
 "cells": [
  {
   "cell_type": "code",
   "execution_count": 8,
   "id": "327c337b",
   "metadata": {},
   "outputs": [],
   "source": [
    "# Suppress warnings\n",
    "import warnings\n",
    "warnings.filterwarnings('ignore')\n",
    "from random import randint\n",
    "from sklearn.utils import shuffle\n",
    "from sklearn.preprocessing import MinMaxScaler\n",
    "import tensorflow as tf\n",
    "from tensorflow import keras\n",
    "from tensorflow.keras.models import Sequential\n",
    "from tensorflow.keras.layers import Activation, Dense\n",
    "from tensorflow.keras.optimizers import Adam\n",
    "from tensorflow.keras.metrics import categorical_crossentropy\n",
    "import pandas as pd\n",
    "import numpy as np"
   ]
  },
  {
   "cell_type": "markdown",
   "id": "cd2fc47a",
   "metadata": {},
   "source": [
    "We'll start out with a very simple classification task using a simple numerical data set,For this simple task, we'll be creating our own example data set."
   ]
  },
  {
   "cell_type": "code",
   "execution_count": 18,
   "id": "53c551c4",
   "metadata": {},
   "outputs": [],
   "source": [
    "train_labels = []\n",
    "train_samples = []\n",
    "\n",
    "for i in range(50):\n",
    "    # The ~5% of younger individuals who did experience side effects\n",
    "    random_younger = randint(13,64)\n",
    "    train_samples.append(random_younger)\n",
    "    train_labels.append(1)\n",
    "\n",
    "    # The ~5% of older individuals who did not experience side effects\n",
    "    random_older = randint(65,100)\n",
    "    train_samples.append(random_older)\n",
    "    train_labels.append(0)\n",
    "\n",
    "for i in range(1000):\n",
    "    # The ~95% of younger individuals who did not experience side effects\n",
    "    random_younger = randint(13,64)\n",
    "    train_samples.append(random_younger)\n",
    "    train_labels.append(0)\n",
    "\n",
    "    # The ~95% of older individuals who did experience side effects\n",
    "    random_older = randint(65,100)\n",
    "    train_samples.append(random_older)\n",
    "    train_labels.append(1)\n",
    "\n",
    "train_labels = np.array(train_labels)\n",
    "train_samples = np.array(train_samples)\n",
    "train_labels, train_samples = shuffle(train_labels, train_samples)\n",
    "scaler = MinMaxScaler(feature_range=(0,1))\n",
    "scaled_train_samples = scaler.fit_transform(train_samples.reshape(-1,1))"
   ]
  },
  {
   "cell_type": "code",
   "execution_count": 19,
   "id": "2682b1a8",
   "metadata": {},
   "outputs": [],
   "source": [
    "# we can think of the way we specify the input_shape here as acting as an implicit input layer, because we don't specify the input layer but rather the input data itself is the input layer \n",
    "model = Sequential([\n",
    "    Dense(units=16, input_shape=(1,), activation='relu'), # this is the first hidden layer and by specifing the input shape, we are telling the model that it will receive 1 dimensional data.\n",
    "    Dense(units=32, activation='relu'),\n",
    "    Dense(units=2, activation='softmax')\n",
    "])"
   ]
  },
  {
   "cell_type": "code",
   "execution_count": 20,
   "id": "fcf0d79a",
   "metadata": {},
   "outputs": [
    {
     "data": {
      "text/html": [
       "<pre style=\"white-space:pre;overflow-x:auto;line-height:normal;font-family:Menlo,'DejaVu Sans Mono',consolas,'Courier New',monospace\"><span style=\"font-weight: bold\">Model: \"sequential_2\"</span>\n",
       "</pre>\n"
      ],
      "text/plain": [
       "\u001b[1mModel: \"sequential_2\"\u001b[0m\n"
      ]
     },
     "metadata": {},
     "output_type": "display_data"
    },
    {
     "data": {
      "text/html": [
       "<pre style=\"white-space:pre;overflow-x:auto;line-height:normal;font-family:Menlo,'DejaVu Sans Mono',consolas,'Courier New',monospace\">┏━━━━━━━━━━━━━━━━━━━━━━━━━━━━━━━━━┳━━━━━━━━━━━━━━━━━━━━━━━━┳━━━━━━━━━━━━━━━┓\n",
       "┃<span style=\"font-weight: bold\"> Layer (type)                    </span>┃<span style=\"font-weight: bold\"> Output Shape           </span>┃<span style=\"font-weight: bold\">       Param # </span>┃\n",
       "┡━━━━━━━━━━━━━━━━━━━━━━━━━━━━━━━━━╇━━━━━━━━━━━━━━━━━━━━━━━━╇━━━━━━━━━━━━━━━┩\n",
       "│ dense_6 (<span style=\"color: #0087ff; text-decoration-color: #0087ff\">Dense</span>)                 │ (<span style=\"color: #00d7ff; text-decoration-color: #00d7ff\">None</span>, <span style=\"color: #00af00; text-decoration-color: #00af00\">16</span>)             │            <span style=\"color: #00af00; text-decoration-color: #00af00\">32</span> │\n",
       "├─────────────────────────────────┼────────────────────────┼───────────────┤\n",
       "│ dense_7 (<span style=\"color: #0087ff; text-decoration-color: #0087ff\">Dense</span>)                 │ (<span style=\"color: #00d7ff; text-decoration-color: #00d7ff\">None</span>, <span style=\"color: #00af00; text-decoration-color: #00af00\">32</span>)             │           <span style=\"color: #00af00; text-decoration-color: #00af00\">544</span> │\n",
       "├─────────────────────────────────┼────────────────────────┼───────────────┤\n",
       "│ dense_8 (<span style=\"color: #0087ff; text-decoration-color: #0087ff\">Dense</span>)                 │ (<span style=\"color: #00d7ff; text-decoration-color: #00d7ff\">None</span>, <span style=\"color: #00af00; text-decoration-color: #00af00\">2</span>)              │            <span style=\"color: #00af00; text-decoration-color: #00af00\">66</span> │\n",
       "└─────────────────────────────────┴────────────────────────┴───────────────┘\n",
       "</pre>\n"
      ],
      "text/plain": [
       "┏━━━━━━━━━━━━━━━━━━━━━━━━━━━━━━━━━┳━━━━━━━━━━━━━━━━━━━━━━━━┳━━━━━━━━━━━━━━━┓\n",
       "┃\u001b[1m \u001b[0m\u001b[1mLayer (type)                   \u001b[0m\u001b[1m \u001b[0m┃\u001b[1m \u001b[0m\u001b[1mOutput Shape          \u001b[0m\u001b[1m \u001b[0m┃\u001b[1m \u001b[0m\u001b[1m      Param #\u001b[0m\u001b[1m \u001b[0m┃\n",
       "┡━━━━━━━━━━━━━━━━━━━━━━━━━━━━━━━━━╇━━━━━━━━━━━━━━━━━━━━━━━━╇━━━━━━━━━━━━━━━┩\n",
       "│ dense_6 (\u001b[38;5;33mDense\u001b[0m)                 │ (\u001b[38;5;45mNone\u001b[0m, \u001b[38;5;34m16\u001b[0m)             │            \u001b[38;5;34m32\u001b[0m │\n",
       "├─────────────────────────────────┼────────────────────────┼───────────────┤\n",
       "│ dense_7 (\u001b[38;5;33mDense\u001b[0m)                 │ (\u001b[38;5;45mNone\u001b[0m, \u001b[38;5;34m32\u001b[0m)             │           \u001b[38;5;34m544\u001b[0m │\n",
       "├─────────────────────────────────┼────────────────────────┼───────────────┤\n",
       "│ dense_8 (\u001b[38;5;33mDense\u001b[0m)                 │ (\u001b[38;5;45mNone\u001b[0m, \u001b[38;5;34m2\u001b[0m)              │            \u001b[38;5;34m66\u001b[0m │\n",
       "└─────────────────────────────────┴────────────────────────┴───────────────┘\n"
      ]
     },
     "metadata": {},
     "output_type": "display_data"
    },
    {
     "data": {
      "text/html": [
       "<pre style=\"white-space:pre;overflow-x:auto;line-height:normal;font-family:Menlo,'DejaVu Sans Mono',consolas,'Courier New',monospace\"><span style=\"font-weight: bold\"> Total params: </span><span style=\"color: #00af00; text-decoration-color: #00af00\">642</span> (2.51 KB)\n",
       "</pre>\n"
      ],
      "text/plain": [
       "\u001b[1m Total params: \u001b[0m\u001b[38;5;34m642\u001b[0m (2.51 KB)\n"
      ]
     },
     "metadata": {},
     "output_type": "display_data"
    },
    {
     "data": {
      "text/html": [
       "<pre style=\"white-space:pre;overflow-x:auto;line-height:normal;font-family:Menlo,'DejaVu Sans Mono',consolas,'Courier New',monospace\"><span style=\"font-weight: bold\"> Trainable params: </span><span style=\"color: #00af00; text-decoration-color: #00af00\">642</span> (2.51 KB)\n",
       "</pre>\n"
      ],
      "text/plain": [
       "\u001b[1m Trainable params: \u001b[0m\u001b[38;5;34m642\u001b[0m (2.51 KB)\n"
      ]
     },
     "metadata": {},
     "output_type": "display_data"
    },
    {
     "data": {
      "text/html": [
       "<pre style=\"white-space:pre;overflow-x:auto;line-height:normal;font-family:Menlo,'DejaVu Sans Mono',consolas,'Courier New',monospace\"><span style=\"font-weight: bold\"> Non-trainable params: </span><span style=\"color: #00af00; text-decoration-color: #00af00\">0</span> (0.00 B)\n",
       "</pre>\n"
      ],
      "text/plain": [
       "\u001b[1m Non-trainable params: \u001b[0m\u001b[38;5;34m0\u001b[0m (0.00 B)\n"
      ]
     },
     "metadata": {},
     "output_type": "display_data"
    }
   ],
   "source": [
    "model.summary()"
   ]
  },
  {
   "cell_type": "markdown",
   "id": "b8576f2c",
   "metadata": {},
   "source": [
    "### Compiling the model\n",
    "The first thing we need to do to get the model ready for training is call the compile() function on it."
   ]
  },
  {
   "cell_type": "code",
   "execution_count": 21,
   "id": "9fab056f",
   "metadata": {},
   "outputs": [],
   "source": [
    "\n",
    "model.compile(optimizer=Adam(learning_rate=0.0001), loss='sparse_categorical_crossentropy', metrics=['accuracy'])\n"
   ]
  },
  {
   "cell_type": "markdown",
   "id": "6fff621e",
   "metadata": {},
   "source": [
    "### Training the model\n",
    "\n",
    "Now that the model is compiled, we can train it using the fit() function.\n",
    "\n"
   ]
  },
  {
   "cell_type": "code",
   "execution_count": 22,
   "id": "5764287d",
   "metadata": {},
   "outputs": [
    {
     "name": "stdout",
     "output_type": "stream",
     "text": [
      "Epoch 1/30\n",
      "210/210 - 1s - 5ms/step - accuracy: 0.5714 - loss: 0.6338\n",
      "Epoch 2/30\n",
      "210/210 - 0s - 1ms/step - accuracy: 0.6495 - loss: 0.6042\n",
      "Epoch 3/30\n",
      "210/210 - 0s - 1ms/step - accuracy: 0.7195 - loss: 0.5710\n",
      "Epoch 4/30\n",
      "210/210 - 0s - 1ms/step - accuracy: 0.7690 - loss: 0.5372\n",
      "Epoch 5/30\n",
      "210/210 - 0s - 1ms/step - accuracy: 0.8024 - loss: 0.5047\n",
      "Epoch 6/30\n",
      "210/210 - 0s - 1ms/step - accuracy: 0.8262 - loss: 0.4725\n",
      "Epoch 7/30\n",
      "210/210 - 0s - 1ms/step - accuracy: 0.8567 - loss: 0.4414\n",
      "Epoch 8/30\n",
      "210/210 - 0s - 1ms/step - accuracy: 0.8752 - loss: 0.4123\n",
      "Epoch 9/30\n",
      "210/210 - 0s - 2ms/step - accuracy: 0.8905 - loss: 0.3861\n",
      "Epoch 10/30\n",
      "210/210 - 0s - 1ms/step - accuracy: 0.8981 - loss: 0.3631\n",
      "Epoch 11/30\n",
      "210/210 - 0s - 1ms/step - accuracy: 0.9043 - loss: 0.3438\n",
      "Epoch 12/30\n",
      "210/210 - 0s - 1ms/step - accuracy: 0.9110 - loss: 0.3264\n",
      "Epoch 13/30\n",
      "210/210 - 0s - 1ms/step - accuracy: 0.9200 - loss: 0.3120\n",
      "Epoch 14/30\n",
      "210/210 - 0s - 1ms/step - accuracy: 0.9181 - loss: 0.3007\n",
      "Epoch 15/30\n",
      "210/210 - 0s - 1ms/step - accuracy: 0.9233 - loss: 0.2918\n",
      "Epoch 16/30\n",
      "210/210 - 0s - 1ms/step - accuracy: 0.9305 - loss: 0.2846\n",
      "Epoch 17/30\n",
      "210/210 - 0s - 1ms/step - accuracy: 0.9271 - loss: 0.2790\n",
      "Epoch 18/30\n",
      "210/210 - 0s - 1ms/step - accuracy: 0.9324 - loss: 0.2743\n",
      "Epoch 19/30\n",
      "210/210 - 0s - 1ms/step - accuracy: 0.9310 - loss: 0.2705\n",
      "Epoch 20/30\n",
      "210/210 - 0s - 1ms/step - accuracy: 0.9362 - loss: 0.2672\n",
      "Epoch 21/30\n",
      "210/210 - 0s - 1ms/step - accuracy: 0.9343 - loss: 0.2648\n",
      "Epoch 22/30\n",
      "210/210 - 0s - 2ms/step - accuracy: 0.9329 - loss: 0.2626\n",
      "Epoch 23/30\n",
      "210/210 - 0s - 2ms/step - accuracy: 0.9376 - loss: 0.2608\n",
      "Epoch 24/30\n",
      "210/210 - 0s - 2ms/step - accuracy: 0.9390 - loss: 0.2591\n",
      "Epoch 25/30\n",
      "210/210 - 0s - 2ms/step - accuracy: 0.9390 - loss: 0.2577\n",
      "Epoch 26/30\n",
      "210/210 - 0s - 2ms/step - accuracy: 0.9390 - loss: 0.2565\n",
      "Epoch 27/30\n",
      "210/210 - 0s - 2ms/step - accuracy: 0.9390 - loss: 0.2554\n",
      "Epoch 28/30\n",
      "210/210 - 0s - 2ms/step - accuracy: 0.9390 - loss: 0.2545\n",
      "Epoch 29/30\n",
      "210/210 - 0s - 2ms/step - accuracy: 0.9400 - loss: 0.2534\n",
      "Epoch 30/30\n",
      "210/210 - 0s - 2ms/step - accuracy: 0.9390 - loss: 0.2524\n"
     ]
    },
    {
     "data": {
      "text/plain": [
       "<keras.src.callbacks.history.History at 0x1a8ff88dbe0>"
      ]
     },
     "execution_count": 22,
     "metadata": {},
     "output_type": "execute_result"
    }
   ],
   "source": [
    "model.fit(x=scaled_train_samples, y=train_labels, batch_size=10, epochs=30, verbose=2)\n"
   ]
  }
 ],
 "metadata": {
  "kernelspec": {
   "display_name": "Python 3",
   "language": "python",
   "name": "python3"
  },
  "language_info": {
   "codemirror_mode": {
    "name": "ipython",
    "version": 3
   },
   "file_extension": ".py",
   "mimetype": "text/x-python",
   "name": "python",
   "nbconvert_exporter": "python",
   "pygments_lexer": "ipython3",
   "version": "3.13.5"
  }
 },
 "nbformat": 4,
 "nbformat_minor": 5
}
