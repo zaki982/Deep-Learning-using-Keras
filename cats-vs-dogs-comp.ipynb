{
 "cells": [
  {
   "cell_type": "code",
   "execution_count": 2,
   "id": "1f952893",
   "metadata": {},
   "outputs": [],
   "source": [
    "import numpy as np\n",
    "import tensorflow as tf\n",
    "from tensorflow import keras\n",
    "from tensorflow.keras.models import Sequential\n",
    "from tensorflow.keras.layers import Activation, Dense, Flatten, BatchNormalization, Conv2D, MaxPool2D\n",
    "from tensorflow.keras.optimizers import Adam\n",
    "from tensorflow.keras.metrics import categorical_crossentropy\n",
    "from tensorflow.keras.preprocessing.image import ImageDataGenerator\n",
    "from sklearn.metrics import confusion_matrix\n",
    "import itertools\n",
    "import os\n",
    "import shutil\n",
    "import random\n",
    "import glob\n",
    "import matplotlib.pyplot as plt\n",
    "%matplotlib inline\n",
    "\n",
    "# Suppress warnings\n",
    "import warnings\n",
    "warnings.filterwarnings('ignore')"
   ]
  },
  {
   "cell_type": "markdown",
   "id": "00d29c7f",
   "metadata": {},
   "source": [
    "# cats vs dogs kaggle competition dataset \n",
    "now we're going to start to building our Convolutional Neural Network, but first we need the data so we are going to work with the cats vs dogs dataset. from the kaggle competition. by using this command **kaggle competitions download -c dogs-vs-cats** \n",
    "but make sure you have kaggle installed **pip install kaggle**\n",
    "and you have the kaggle api installed and you have the kaggle.json file in your home directory.\n",
    "1. Go to your Kaggle account settings.\n",
    "2. Under the \"API\" section, click \"Create New API Token\". This action will download a kaggle.json file to your computer.\n",
    "3. Move the downloaded kaggle.json file to C:\\Users\\dell\\.kaggle.\n"
   ]
  },
  {
   "cell_type": "code",
   "execution_count": 5,
   "id": "36c1aac7",
   "metadata": {},
   "outputs": [],
   "source": [
    "import os, glob, random, shutil\n",
    "\n",
    "base_dir     = 'data'\n",
    "split_ratios = {'train': 0.80, 'valid': 0.10, 'test': 0.10}\n",
    "classes      = ['cat', 'dog']\n",
    "\n",
    "random.seed(42)\n",
    "\n",
    "# Make sure your split directories exist\n",
    "for split in split_ratios:\n",
    "    for cls in classes:\n",
    "        os.makedirs(os.path.join(base_dir, split, cls), exist_ok=True)\n",
    "\n",
    "# Do the split for each class\n",
    "for cls in classes:\n",
    "    # Find all images like 'cat.0.jpg', 'dog.0.jpg' in data/train/\n",
    "    all_files = glob.glob(os.path.join(base_dir, 'train', f'{cls}.*.jpg'))\n",
    "    random.shuffle(all_files)\n",
    "    n_total = len(all_files)\n",
    "    n_train = int(n_total * split_ratios['train'])\n",
    "    n_valid = int(n_total * split_ratios['valid'])\n",
    "    n_test  = n_total - n_train - n_valid\n",
    "\n",
    "    train_files = all_files[:n_train]\n",
    "    valid_files = all_files[n_train:n_train + n_valid]\n",
    "    test_files  = all_files[n_train + n_valid:]\n",
    "\n",
    "    def mover(file_list, split_name):\n",
    "        dest = os.path.join(base_dir, split_name, cls)\n",
    "        for filepath in file_list:\n",
    "            shutil.move(filepath, dest)\n",
    "\n",
    "    mover(train_files, 'train')\n",
    "    mover(valid_files, 'valid')\n",
    "    mover(test_files,  'test')"
   ]
  }
 ],
 "metadata": {
  "kernelspec": {
   "display_name": "Python 3",
   "language": "python",
   "name": "python3"
  },
  "language_info": {
   "codemirror_mode": {
    "name": "ipython",
    "version": 3
   },
   "file_extension": ".py",
   "mimetype": "text/x-python",
   "name": "python",
   "nbconvert_exporter": "python",
   "pygments_lexer": "ipython3",
   "version": "3.13.5"
  }
 },
 "nbformat": 4,
 "nbformat_minor": 5
}
